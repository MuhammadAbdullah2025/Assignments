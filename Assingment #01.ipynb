{
 "cells": [
  {
   "cell_type": "markdown",
   "id": "69e34b04-416d-495c-b707-0c55b0819a64",
   "metadata": {},
   "source": [
    "Assingment #1"
   ]
  },
  {
   "cell_type": "code",
   "execution_count": 4,
   "id": "5c1ceec5-8f5c-449d-aebd-8a299b21746a",
   "metadata": {},
   "outputs": [],
   "source": [
    "salaries = ['20k', '40k', '50k', '60k', '35k', '89k','40k']"
   ]
  },
  {
   "cell_type": "code",
   "execution_count": 6,
   "id": "32d2d7de-f6a6-475c-a44d-db538b07bbaa",
   "metadata": {},
   "outputs": [
    {
     "data": {
      "text/plain": [
       "['20k', '40k', '50k', '60k', '35k', '89k', '40k']"
      ]
     },
     "execution_count": 6,
     "metadata": {},
     "output_type": "execute_result"
    }
   ],
   "source": [
    "salaries"
   ]
  },
  {
   "cell_type": "code",
   "execution_count": 8,
   "id": "73094ea5-fd35-4097-b9cd-c1d5f2b6ac54",
   "metadata": {},
   "outputs": [
    {
     "data": {
      "text/plain": [
       "7"
      ]
     },
     "execution_count": 8,
     "metadata": {},
     "output_type": "execute_result"
    }
   ],
   "source": [
    "len(salaries)"
   ]
  },
  {
   "cell_type": "code",
   "execution_count": 10,
   "id": "ce4c1a98-2165-4205-a0f7-c49ecc13b1ec",
   "metadata": {},
   "outputs": [
    {
     "data": {
      "text/plain": [
       "'50k'"
      ]
     },
     "execution_count": 10,
     "metadata": {},
     "output_type": "execute_result"
    }
   ],
   "source": [
    "salaries[2]"
   ]
  },
  {
   "cell_type": "code",
   "execution_count": 12,
   "id": "f7c4871b-d04a-4752-9081-c6eed559d04d",
   "metadata": {},
   "outputs": [
    {
     "data": {
      "text/plain": [
       "'40k'"
      ]
     },
     "execution_count": 12,
     "metadata": {},
     "output_type": "execute_result"
    }
   ],
   "source": [
    "salaries[-1]"
   ]
  },
  {
   "cell_type": "code",
   "execution_count": 14,
   "id": "f5073317-52aa-43a6-92ca-9e7ca72b10c2",
   "metadata": {},
   "outputs": [
    {
     "data": {
      "text/plain": [
       "['50k', '60k', '35k']"
      ]
     },
     "execution_count": 14,
     "metadata": {},
     "output_type": "execute_result"
    }
   ],
   "source": [
    "salaries[2:5]"
   ]
  },
  {
   "cell_type": "code",
   "execution_count": 16,
   "id": "8fe4b665-7e3a-47b0-8687-480e3cb49f13",
   "metadata": {},
   "outputs": [
    {
     "data": {
      "text/plain": [
       "['20k', '40k', '50k', '60k', '35k', '89k', '40k']"
      ]
     },
     "execution_count": 16,
     "metadata": {},
     "output_type": "execute_result"
    }
   ],
   "source": [
    "salaries"
   ]
  },
  {
   "cell_type": "code",
   "execution_count": 18,
   "id": "616e072a-d309-4b81-b6ec-8bfcfd19f9d1",
   "metadata": {},
   "outputs": [],
   "source": [
    "salaries=['20k', '40k', '50k', '60k', '35k', '89k','40k']"
   ]
  },
  {
   "cell_type": "code",
   "execution_count": 20,
   "id": "6d18f301-09f7-4b23-9972-1e4197e0e167",
   "metadata": {},
   "outputs": [
    {
     "data": {
      "text/plain": [
       "['20k', '40k', '50k', '60k', '35k', '89k', '40k']"
      ]
     },
     "execution_count": 20,
     "metadata": {},
     "output_type": "execute_result"
    }
   ],
   "source": [
    "salaries"
   ]
  },
  {
   "cell_type": "code",
   "execution_count": 22,
   "id": "3413e075-e2ba-4c1b-bbb9-20904cae5d48",
   "metadata": {},
   "outputs": [],
   "source": [
    "salaries.append(\"100K\")"
   ]
  },
  {
   "cell_type": "code",
   "execution_count": 24,
   "id": "25ca41ba-8435-45f6-b08c-3b5a4ad80a69",
   "metadata": {},
   "outputs": [
    {
     "data": {
      "text/plain": [
       "['20k', '40k', '50k', '60k', '35k', '89k', '40k', '100K']"
      ]
     },
     "execution_count": 24,
     "metadata": {},
     "output_type": "execute_result"
    }
   ],
   "source": [
    "salaries"
   ]
  },
  {
   "cell_type": "code",
   "execution_count": 26,
   "id": "44b31ee5-b469-4626-8060-8d41cdfaf01f",
   "metadata": {},
   "outputs": [],
   "source": [
    "salaries= salaries+[\"120K\"]"
   ]
  },
  {
   "cell_type": "code",
   "execution_count": 28,
   "id": "dd952011-479a-4d00-a4e5-ef92e8f940a2",
   "metadata": {},
   "outputs": [
    {
     "data": {
      "text/plain": [
       "['20k', '40k', '50k', '60k', '35k', '89k', '40k', '100K', '120K']"
      ]
     },
     "execution_count": 28,
     "metadata": {},
     "output_type": "execute_result"
    }
   ],
   "source": [
    "salaries"
   ]
  },
  {
   "cell_type": "code",
   "execution_count": 30,
   "id": "e29e2f28-1fc5-4ec8-81f7-72d7cec791ea",
   "metadata": {},
   "outputs": [],
   "source": [
    "salaries[2]=\"55k\""
   ]
  },
  {
   "cell_type": "code",
   "execution_count": 32,
   "id": "4d705bee-d89b-4b80-974b-f88b74c2587c",
   "metadata": {},
   "outputs": [
    {
     "data": {
      "text/plain": [
       "['20k', '40k', '55k', '60k', '35k', '89k', '40k', '100K', '120K']"
      ]
     },
     "execution_count": 32,
     "metadata": {},
     "output_type": "execute_result"
    }
   ],
   "source": [
    "salaries"
   ]
  },
  {
   "cell_type": "raw",
   "id": "fff5d00c-0003-4d33-a922-66f2bac74965",
   "metadata": {},
   "source": []
  },
  {
   "cell_type": "code",
   "execution_count": 67,
   "id": "71bfe8d3-2a53-4c31-8d1a-709b01e8917b",
   "metadata": {},
   "outputs": [
    {
     "name": "stdout",
     "output_type": "stream",
     "text": [
      "2\n"
     ]
    }
   ],
   "source": [
    "# Define the salaries list with some example values\n",
    "salaries = ['20k', '40k', '55k', '60k', '35k', '89k', '40k', '100K', '120K']  # Example list of salaries\n",
    "\n",
    "# Count how many times '40k' appears in the salaries list\n",
    "count_40k = salaries.count('40k')\n",
    "\n",
    "# Print the result\n",
    "print(count_40k)  # This will output the count of '40k'"
   ]
  },
  {
   "cell_type": "code",
   "execution_count": 69,
   "id": "32fdc127-2373-4682-8870-c41873c48c4d",
   "metadata": {},
   "outputs": [
    {
     "data": {
      "text/plain": [
       "['20k', '40k', '55k', '60k', '35k', '89k', '40k', '100K', '120K']"
      ]
     },
     "execution_count": 69,
     "metadata": {},
     "output_type": "execute_result"
    }
   ],
   "source": [
    "salaries"
   ]
  },
  {
   "cell_type": "code",
   "execution_count": 71,
   "id": "40a39135-fe6a-48ed-a078-0f4d0c1e3ece",
   "metadata": {},
   "outputs": [
    {
     "data": {
      "text/plain": [
       "2"
      ]
     },
     "execution_count": 71,
     "metadata": {},
     "output_type": "execute_result"
    }
   ],
   "source": [
    "count_40k"
   ]
  },
  {
   "cell_type": "code",
   "execution_count": 73,
   "id": "83a0dc60-e287-4cfd-8b37-56e64492e835",
   "metadata": {},
   "outputs": [
    {
     "data": {
      "text/plain": [
       "2"
      ]
     },
     "execution_count": 73,
     "metadata": {},
     "output_type": "execute_result"
    }
   ],
   "source": [
    "salaries.count(\"40k\")"
   ]
  },
  {
   "cell_type": "code",
   "execution_count": 75,
   "id": "1bb2fb2a-a27a-4fa0-ba49-9eb09afa9e9e",
   "metadata": {},
   "outputs": [],
   "source": [
    "salaries[1]=\"10k\""
   ]
  },
  {
   "cell_type": "code",
   "execution_count": 77,
   "id": "245e65a4-1f3a-416e-ae5f-583bf0c2c3bf",
   "metadata": {},
   "outputs": [
    {
     "data": {
      "text/plain": [
       "['20k', '10k', '55k', '60k', '35k', '89k', '40k', '100K', '120K']"
      ]
     },
     "execution_count": 77,
     "metadata": {},
     "output_type": "execute_result"
    }
   ],
   "source": [
    "salaries"
   ]
  },
  {
   "cell_type": "code",
   "execution_count": 81,
   "id": "b112e6dc-9bf5-45ee-9dc6-657ae69867c7",
   "metadata": {},
   "outputs": [],
   "source": [
    "salaries.reverse()"
   ]
  },
  {
   "cell_type": "code",
   "execution_count": 83,
   "id": "24f1df7e-b91f-40bf-a8ef-53f2ee39055b",
   "metadata": {},
   "outputs": [
    {
     "data": {
      "text/plain": [
       "['120K', '100K', '40k', '89k', '35k', '60k', '55k', '10k', '20k']"
      ]
     },
     "execution_count": 83,
     "metadata": {},
     "output_type": "execute_result"
    }
   ],
   "source": [
    "salaries"
   ]
  },
  {
   "cell_type": "code",
   "execution_count": 85,
   "id": "af027900-2434-4ef5-a5b5-026db5fc4a25",
   "metadata": {},
   "outputs": [],
   "source": [
    "reverse_salaries=salaries[::-1]"
   ]
  },
  {
   "cell_type": "code",
   "execution_count": 87,
   "id": "a5adb71c-0c14-4414-b576-40d2e426145f",
   "metadata": {},
   "outputs": [
    {
     "data": {
      "text/plain": [
       "['20k', '10k', '55k', '60k', '35k', '89k', '40k', '100K', '120K']"
      ]
     },
     "execution_count": 87,
     "metadata": {},
     "output_type": "execute_result"
    }
   ],
   "source": [
    "reverse_salaries"
   ]
  },
  {
   "cell_type": "code",
   "execution_count": null,
   "id": "4fc897a5-23e4-4e69-9b12-27dd316f8108",
   "metadata": {},
   "outputs": [],
   "source": []
  }
 ],
 "metadata": {
  "kernelspec": {
   "display_name": "Python 3 (ipykernel)",
   "language": "python",
   "name": "python3"
  },
  "language_info": {
   "codemirror_mode": {
    "name": "ipython",
    "version": 3
   },
   "file_extension": ".py",
   "mimetype": "text/x-python",
   "name": "python",
   "nbconvert_exporter": "python",
   "pygments_lexer": "ipython3",
   "version": "3.12.7"
  }
 },
 "nbformat": 4,
 "nbformat_minor": 5
}
